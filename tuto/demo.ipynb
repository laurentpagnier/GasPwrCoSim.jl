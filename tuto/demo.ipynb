{
 "cells": [
  {
   "cell_type": "code",
   "execution_count": null,
   "id": "923bbdb1-6c58-427f-bd7e-e48885c33d56",
   "metadata": {},
   "outputs": [],
   "source": [
    "using Pkg\n",
    "Pkg.activate(\"..\")\n",
    "include(\"../src/GasPwrCoSim.jl\")\n",
    "using .GasPwrCoSim"
   ]
  },
  {
   "cell_type": "code",
   "execution_count": null,
   "id": "3237683b-e2eb-4532-87c2-f7d445aeebd3",
   "metadata": {},
   "outputs": [],
   "source": [
    "# define a combined model\n",
    "model = CombinedModel(\n",
    "    pwr_model = CongestionFreeModel,\n",
    "    gas_model = LinepackModel,\n",
    "    duration = 24*60, # in minutes\n",
    "    control_model = SimpleController,\n",
    ");"
   ]
  },
  {
   "cell_type": "code",
   "execution_count": null,
   "id": "2ec11aac-091d-44a1-9088-b71b8a91316c",
   "metadata": {},
   "outputs": [],
   "source": [
    "# run a simulation\n",
    "run_sim(model, on_display=true)"
   ]
  },
  {
   "cell_type": "code",
   "execution_count": null,
   "id": "29163a60-1c63-4216-b569-1797913aa1cd",
   "metadata": {},
   "outputs": [],
   "source": [
    "struct FakeModel <: GasPwrCoSim.PowerSystem\n",
    "end\n",
    "GasPwrCoSim.reset!(model::FakeModel) = nothing\n",
    "\n",
    "model = CombinedModel(\n",
    "    pwr_model = FakeModel,\n",
    "    gas_model = LinepackModel,\n",
    "    duration = 1*24*60, # in minutes\n",
    "    control_model = SimpleController,\n",
    ");\n",
    "\n",
    "# this will fail as control on FakeModel is not defined\n",
    "run_sim(model, on_display=true)"
   ]
  },
  {
   "cell_type": "code",
   "execution_count": null,
   "id": "f9336117-5801-488a-9d1d-f895677b5122",
   "metadata": {},
   "outputs": [],
   "source": []
  }
 ],
 "metadata": {
  "kernelspec": {
   "display_name": "Julia 1.11.5",
   "language": "julia",
   "name": "julia-1.11"
  },
  "language_info": {
   "file_extension": ".jl",
   "mimetype": "application/julia",
   "name": "julia",
   "version": "1.11.5"
  }
 },
 "nbformat": 4,
 "nbformat_minor": 5
}
