{
 "cells": [
  {
   "cell_type": "code",
   "execution_count": null,
   "id": "923bbdb1-6c58-427f-bd7e-e48885c33d56",
   "metadata": {},
   "outputs": [],
   "source": [
    "using Pkg\n",
    "Pkg.activate(\"..\")\n",
    "include(\"../src/GasPwrCoSim.jl\")\n",
    "using .GasPwrCoSim"
   ]
  },
  {
   "cell_type": "code",
   "execution_count": null,
   "id": "3237683b-e2eb-4532-87c2-f7d445aeebd3",
   "metadata": {},
   "outputs": [],
   "source": [
    "# define a combined model\n",
    "model = CombinedModel(\n",
    "    pwr_model = CongestionFreeModel,\n",
    "    gas_model = LinepackModel,\n",
    "    #gas_model = GasNetworkModel, # compiling the model will take ~2min, so be patient\n",
    "    control_model = SimpleController,\n",
    "    duration = 24*60, # in minutes\n",
    "    dx = 10_000,\n",
    ");"
   ]
  },
  {
   "cell_type": "code",
   "execution_count": null,
   "id": "2ec11aac-091d-44a1-9088-b71b8a91316c",
   "metadata": {},
   "outputs": [],
   "source": [
    "# run a simulation\n",
    "run_sim(model, on_display=true)"
   ]
  },
  {
   "cell_type": "code",
   "execution_count": null,
   "id": "29163a60-1c63-4216-b569-1797913aa1cd",
   "metadata": {},
   "outputs": [],
   "source": [
    "struct FakeModel <: GasPwrCoSim.PowerSystem\n",
    "end\n",
    "GasPwrCoSim.reset!(model::FakeModel) = nothing\n",
    "\n",
    "model = CombinedModel(\n",
    "    pwr_model = FakeModel,\n",
    "    gas_model = LinepackModel,\n",
    "    duration = 1*24*60, # in minutes\n",
    "    control_model = SimpleController,\n",
    ");\n",
    "\n",
    "# this will fail as control on FakeModel is not defined\n",
    "run_sim(model, on_display=true)"
   ]
  }
 ],
 "metadata": {
  "kernelspec": {
   "display_name": "Julia 1.11.5",
   "language": "julia",
   "name": "julia-1.11"
  },
  "language_info": {
   "file_extension": ".jl",
   "mimetype": "application/julia",
   "name": "julia",
   "version": "1.11.5"
  }
 },
 "nbformat": 4,
 "nbformat_minor": 5
}
